{
 "cells": [
  {
   "cell_type": "code",
   "execution_count": 2,
   "metadata": {},
   "outputs": [],
   "source": [
    "# Imports\n",
    "import GetOldTweets3 as got\n",
    "import pandas as pd"
   ]
  },
  {
   "cell_type": "code",
   "execution_count": 38,
   "metadata": {},
   "outputs": [],
   "source": [
    "hashtags = [\"#StopBrexit\", \"#FBPE\", \"#foreverEU\", \"#TakeBackControl\", \"#GetBrexitDone\", '#GotBrexitDone', \"#Brexit\", \"#EU\", \"#toryBrexit\"]\n"
   ]
  },
  {
   "cell_type": "code",
   "execution_count": 3,
   "metadata": {
    "scrolled": true
   },
   "outputs": [
    {
     "name": "stdout",
     "output_type": "stream",
     "text": [
      "#VoteLeave  on  2016-06-18 has # of hashtags:  2000\n"
     ]
    }
   ],
   "source": [
    "# Input search query to scrape tweets and name csv file\n",
    "for tag in [\"#VoteLeave\"]:\n",
    "    \n",
    "    # 2-week data\n",
    "    for i in range(18, 19, 1):\n",
    "        \n",
    "\n",
    "    # num of tweets l want\n",
    "        count = 2000\n",
    "\n",
    "        #date\n",
    "        since_date = '2016-06-' + str(i)\n",
    "        until_date = '2016-06-' + str(i + 3)\n",
    "\n",
    "\n",
    "\n",
    "        # Creation of query object\n",
    "        tweetCriteria = got.manager.TweetCriteria().setQuerySearch(tag).setSince(since_date).setUntil(until_date).setMaxTweets(count)\n",
    "\n",
    "        # Creation of list that contains all tweets\n",
    "        tweets = got.manager.TweetManager.getTweets(tweetCriteria)\n",
    "\n",
    "        # Creating list of chosen tweet data\n",
    "        text_tweets = [[tweet.id, tweet.username, tweet.mentions, tweet.hashtags, tweet.geo, tweet.date, tweet.text] for tweet in tweets]\n",
    "\n",
    "        data = pd.DataFrame(text_tweets)\n",
    "        data.columns = ['id', 'user_name', 'mentions', 'hashtags', 'geo', \"Time\", \"Text\"]\n",
    "\n",
    "        # length of data\n",
    "        count = len(data)\n",
    "        print(tag, \" on \", since_date, \"has # of hashtags: \", count)\n",
    "\n",
    "\n",
    "        # save data to csv file\n",
    "        data.to_csv('{}-{}k-{}-1d-tweets.csv'.format(tag, count//1000, i), sep=',')"
   ]
  },
  {
   "cell_type": "code",
   "execution_count": 51,
   "metadata": {},
   "outputs": [],
   "source": [
    "pd.set_option('display.max_colwidth', None)"
   ]
  },
  {
   "cell_type": "code",
   "execution_count": 10,
   "metadata": {},
   "outputs": [],
   "source": [
    "df1 = pd.read_csv('1.csv')\n",
    "df2 = pd.read_csv('2.csv')\n",
    "df3 = pd.read_csv('3.csv')\n",
    "\n",
    "\n",
    "df = pd.concat([df1, df2, df3], axis = 0)"
   ]
  },
  {
   "cell_type": "code",
   "execution_count": 12,
   "metadata": {},
   "outputs": [],
   "source": [
    "df = df.iloc[:, 1:]"
   ]
  },
  {
   "cell_type": "code",
   "execution_count": 15,
   "metadata": {},
   "outputs": [],
   "source": [
    "df.to_csv('06_2016.csv')"
   ]
  },
  {
   "cell_type": "code",
   "execution_count": null,
   "metadata": {},
   "outputs": [],
   "source": []
  }
 ],
 "metadata": {
  "kernelspec": {
   "display_name": "Python 3",
   "language": "python",
   "name": "python3"
  },
  "language_info": {
   "codemirror_mode": {
    "name": "ipython",
    "version": 3
   },
   "file_extension": ".py",
   "mimetype": "text/x-python",
   "name": "python",
   "nbconvert_exporter": "python",
   "pygments_lexer": "ipython3",
   "version": "3.7.3"
  }
 },
 "nbformat": 4,
 "nbformat_minor": 4
}
